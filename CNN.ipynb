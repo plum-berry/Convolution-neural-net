{
 "cells": [
  {
   "cell_type": "markdown",
   "id": "1248bd35",
   "metadata": {},
   "source": [
    "# Importing all the necessary modules"
   ]
  },
  {
   "cell_type": "code",
   "execution_count": null,
   "id": "1cb32492",
   "metadata": {},
   "outputs": [],
   "source": [
    "import torch\n",
    "from torch import nn\n",
    "from torch.utils.data import DataLoader\n",
    "from torchvision import datasets\n",
    "from torchvision.transforms import ToTensor\n",
    "import matplotlib.pyplot as plt\n",
    "import numpy as np\n"
   ]
  },
  {
   "cell_type": "markdown",
   "id": "4cf0d602",
   "metadata": {},
   "source": [
    "# Downloading the CIFAR10 dataset\n",
    "\n",
    "## The CIFAR-10 dataset\n",
    "\n",
    "The CIFAR-10 dataset consists of 60000 32x32 colour images in 10 classes, with 6000 images per class. There are 50000 training images and 10000 test images.\n",
    "\n",
    "\n"
   ]
  },
  {
   "cell_type": "code",
   "execution_count": null,
   "id": "7e7f4a10",
   "metadata": {},
   "outputs": [],
   "source": [
    "def download_CIFAR10_dataset():\n",
    "    \"\"\"Downloads the CIFAR-10 dataset in the data folder and returns training data and testing data.\"\"\"\n",
    "    train_data = datasets.CIFAR10(\n",
    "        root = \"data\",\n",
    "        download=True,\n",
    "        train=True,\n",
    "        transform=ToTensor()\n",
    "    )\n",
    "    validation_data = datasets.CIFAR10(\n",
    "        root = \"data\",\n",
    "        download=True,\n",
    "        train=False,\n",
    "        transform=ToTensor()\n",
    "    ) \n",
    "\n",
    "    return train_data,validation_data"
   ]
  },
  {
   "cell_type": "code",
   "execution_count": null,
   "id": "67b3f929",
   "metadata": {},
   "outputs": [],
   "source": [
    "dow"
   ]
  }
 ],
 "metadata": {
  "kernelspec": {
   "display_name": ".venv",
   "language": "python",
   "name": "python3"
  },
  "language_info": {
   "codemirror_mode": {
    "name": "ipython",
    "version": 3
   },
   "file_extension": ".py",
   "mimetype": "text/x-python",
   "name": "python",
   "nbconvert_exporter": "python",
   "pygments_lexer": "ipython3",
   "version": "3.12.6"
  }
 },
 "nbformat": 4,
 "nbformat_minor": 5
}
