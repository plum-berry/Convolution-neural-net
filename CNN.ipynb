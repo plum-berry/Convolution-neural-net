{
  "cells": [
    {
      "cell_type": "markdown",
      "id": "1248bd35",
      "metadata": {
        "id": "1248bd35"
      },
      "source": [
        "# Importing all the necessary modules"
      ]
    },
    {
<<<<<<< HEAD
     "name": "stdout",
     "output_type": "stream",
     "text": [
      "Dataset CIFAR10\n",
      "    Number of datapoints: 50000\n",
      "    Root location: data\n",
      "    Split: Train\n",
      "    StandardTransform\n",
      "Transform: ToTensor() Dataset CIFAR10\n",
      "    Number of datapoints: 10000\n",
      "    Root location: data\n",
      "    Split: Test\n",
      "    StandardTransform\n",
      "Transform: ToTensor()\n"
     ]
    }
   ],
   "source": [
    "train_data, validation_data = download_CIFAR10_dataset()\n",
    "print(train_data,validation_data)"
   ]
  },
  {
   "cell_type": "markdown",
   "id": "66d5df9b",
   "metadata": {},
   "source": [
    "# Making DataLoader Wraper for train data to load data in batches"
   ]
  },
  {
   "cell_type": "code",
   "execution_count": null,
   "id": "6b7eb386",
   "metadata": {},
   "outputs": [],
   "source": [
    "BATCH_SIZE = 9\n",
    "\n",
    "train_data_loader = DataLoader(train_data,batch_size=BATCH_SIZE,shuffle=True)"
   ]
  },
  {
   "cell_type": "markdown",
   "id": "b70f0f77",
   "metadata": {},
   "source": [
    "# Visualizing the CIFAR-10 dataset"
   ]
  },
  {
   "cell_type": "code",
   "execution_count": 57,
   "id": "537567e5",
   "metadata": {},
   "outputs": [],
   "source": [
    "dataiter = iter(train_data_loader)\n",
    "inputs,labels = next(dataiter)"
   ]
  },
  {
   "cell_type": "code",
   "execution_count": 18,
   "id": "a4a3704b",
   "metadata": {},
   "outputs": [
    {
     "data": {
      "text/plain": [
       "torch.Size([9, 3, 32, 32])"
      ]
     },
     "execution_count": 18,
     "metadata": {},
     "output_type": "execute_result"
=======
      "cell_type": "code",
      "execution_count": 1,
      "id": "1cb32492",
      "metadata": {
        "id": "1cb32492"
      },
      "outputs": [],
      "source": [
        "import torch\n",
        "from torch import nn\n",
        "from torch.utils.data import DataLoader\n",
        "from torchvision import datasets\n",
        "from torchvision.transforms import ToTensor\n",
        "import matplotlib.pyplot as plt\n",
        "import numpy as np\n"
      ]
    },
    {
      "cell_type": "markdown",
      "id": "4cf0d602",
      "metadata": {
        "id": "4cf0d602"
      },
      "source": [
        "# Downloading the CIFAR10 dataset\n",
        "\n",
        "## The CIFAR-10 dataset\n",
        "\n",
        "The CIFAR-10 dataset consists of 60000 32x32 colour images in 10 classes, with 6000 images per class. There are 50000 training images and 10000 test images.\n",
        "\n",
        "\n"
      ]
    },
    {
      "cell_type": "code",
      "execution_count": 2,
      "id": "7e7f4a10",
      "metadata": {
        "id": "7e7f4a10"
      },
      "outputs": [],
      "source": [
        "def download_CIFAR10_dataset():\n",
        "    \"\"\"Downloads the CIFAR-10 dataset in the data folder and returns training data and testing data.\"\"\"\n",
        "    train_data = datasets.CIFAR10(\n",
        "        root = \"data\",\n",
        "        download=True,\n",
        "        train=True,\n",
        "        transform=ToTensor()\n",
        "    )\n",
        "    validation_data = datasets.CIFAR10(\n",
        "        root = \"data\",\n",
        "        download=True,\n",
        "        train=False,\n",
        "        transform=ToTensor()\n",
        "    )\n",
        "\n",
        "    return train_data,validation_data"
      ]
    },
    {
      "cell_type": "code",
      "execution_count": 3,
      "id": "67b3f929",
      "metadata": {
        "id": "67b3f929",
        "outputId": "50b09c11-e5c6-49ae-bea2-a269c1019771",
        "colab": {
          "base_uri": "https://localhost:8080/"
        }
      },
      "outputs": [
        {
          "output_type": "stream",
          "name": "stderr",
          "text": [
            "100%|██████████| 170M/170M [00:04<00:00, 41.4MB/s]\n"
          ]
        },
        {
          "output_type": "stream",
          "name": "stdout",
          "text": [
            "Dataset CIFAR10\n",
            "    Number of datapoints: 50000\n",
            "    Root location: data\n",
            "    Split: Train\n",
            "    StandardTransform\n",
            "Transform: ToTensor() Dataset CIFAR10\n",
            "    Number of datapoints: 10000\n",
            "    Root location: data\n",
            "    Split: Test\n",
            "    StandardTransform\n",
            "Transform: ToTensor()\n"
          ]
        }
      ],
      "source": [
        "train_data, validation_data = download_CIFAR10_dataset()\n",
        "print(train_data,validation_data)"
      ]
    },
    {
      "cell_type": "markdown",
      "id": "66d5df9b",
      "metadata": {
        "id": "66d5df9b"
      },
      "source": [
        "# Making DataLoader Wraper for train data to load data in batches"
      ]
    },
    {
      "cell_type": "code",
      "execution_count": 4,
      "id": "6b7eb386",
      "metadata": {
        "id": "6b7eb386"
      },
      "outputs": [],
      "source": [
        "BATCH_SIZE = 9\n",
        "\n",
        "train_data_loader = DataLoader(train_data,batch_size=BATCH_SIZE)"
      ]
    },
    {
      "cell_type": "markdown",
      "id": "b70f0f77",
      "metadata": {
        "id": "b70f0f77"
      },
      "source": [
        "# Visualizing the CIFAR-10 dataset"
      ]
    },
    {
      "cell_type": "code",
      "execution_count": 5,
      "id": "537567e5",
      "metadata": {
        "id": "537567e5"
      },
      "outputs": [],
      "source": [
        "dataiter = iter(train_data_loader)\n",
        "inputs,labels = next(dataiter)"
      ]
    },
    {
      "cell_type": "code",
      "execution_count": 6,
      "id": "a4a3704b",
      "metadata": {
        "id": "a4a3704b",
        "outputId": "4bf41cdc-0e0a-4676-9b60-0ef010ebf986",
        "colab": {
          "base_uri": "https://localhost:8080/"
        }
      },
      "outputs": [
        {
          "output_type": "execute_result",
          "data": {
            "text/plain": [
              "torch.Size([9, 3, 32, 32])"
            ]
          },
          "metadata": {},
          "execution_count": 6
        }
      ],
      "source": [
        "inputs.shape"
      ]
    },
    {
      "cell_type": "code",
      "execution_count": 7,
      "id": "cfcde7d6",
      "metadata": {
        "id": "cfcde7d6"
      },
      "outputs": [],
      "source": [
        "images = inputs.numpy()"
      ]
    },
    {
      "cell_type": "code",
      "execution_count": 8,
      "id": "11a7661f",
      "metadata": {
        "id": "11a7661f",
        "outputId": "d2f69e33-bb20-4ac7-b124-59c31c9f56fa",
        "colab": {
          "base_uri": "https://localhost:8080/",
          "height": 964
        }
      },
      "outputs": [
        {
          "output_type": "display_data",
          "data": {
            "text/plain": [
              "<Figure size 1000x1000 with 9 Axes>"
            ],
            "image/png": "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\n"
          },
          "metadata": {}
        }
      ],
      "source": [
        "fig, axes = plt.subplots(3,3,figsize = (10,10))\n",
        "fig.tight_layout()\n",
        "\n",
        "for i in range(9):\n",
        "    img = images[i]\n",
        "    ax = axes[i//3,i%3]\n",
        "    ax.imshow(np.transpose(img,(1,2,0)))\n",
        "    ax.axis(False)\n",
        "plt.show()"
      ]
    },
    {
      "cell_type": "code",
      "source": [],
      "metadata": {
        "id": "vGX85EwHAn9E"
      },
      "id": "vGX85EwHAn9E",
      "execution_count": null,
      "outputs": []
>>>>>>> 6de41fb5f0dfb243b485bf4facb07b022e44a2e4
    }
  ],
  "metadata": {
    "kernelspec": {
      "display_name": "Python 3",
      "name": "python3"
    },
    "language_info": {
      "codemirror_mode": {
        "name": "ipython",
        "version": 3
      },
      "file_extension": ".py",
      "mimetype": "text/x-python",
      "name": "python",
      "nbconvert_exporter": "python",
      "pygments_lexer": "ipython3",
      "version": "3.12.6"
    },
    "colab": {
      "provenance": [],
      "gpuType": "T4"
    },
    "accelerator": "GPU"
  },
<<<<<<< HEAD
  {
   "cell_type": "code",
   "execution_count": 19,
   "id": "cfcde7d6",
   "metadata": {},
   "outputs": [],
   "source": [
    "images = inputs.numpy()"
   ]
  },
  {
   "cell_type": "code",
   "execution_count": 20,
   "id": "11a7661f",
   "metadata": {},
   "outputs": [
    {
     "data": {
      "image/png": "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",
      "text/plain": [
       "<Figure size 1000x1000 with 9 Axes>"
      ]
     },
     "metadata": {},
     "output_type": "display_data"
    }
   ],
   "source": [
    "fig, axes = plt.subplots(3,3,figsize = (10,10))\n",
    "fig.tight_layout()\n",
    "\n",
    "for i in range(9):\n",
    "    img = images[i]\n",
    "    ax = axes[i//3,i%3]\n",
    "    ax.imshow(np.transpose(img,(1,2,0)))\n",
    "    ax.axis(False)\n",
    "plt.show()"
   ]
  },
  {
   "cell_type": "markdown",
   "id": "757c29f1",
   "metadata": {},
   "source": [
    "# Defining the Convolution model"
   ]
  },
  {
   "cell_type": "code",
   "execution_count": 130,
   "id": "be7b810d",
   "metadata": {},
   "outputs": [],
   "source": [
    "class ConvNet(nn.Module):\n",
    "    def __init__(self):\n",
    "        super().__init__()\n",
    "        self.conv_block1 = nn.Sequential(\n",
    "            nn.Conv2d(3,6,5),\n",
    "            nn.ReLU(),\n",
    "            nn.MaxPool2d(2,2)\n",
    "        )\n",
    "        self.conv_block2 = nn.Sequential(\n",
    "            nn.Conv2d(6,16,5),\n",
    "            nn.ReLU(),\n",
    "            nn.MaxPool2d(2,2)\n",
    "        )\n",
    "        self.flatten = nn.Flatten()\n",
    "        self.dense_layers =  nn.Sequential(\n",
    "            nn.Linear(16*5*5,120),\n",
    "            nn.ReLU(),\n",
    "            nn.Linear(120,84),\n",
    "            nn.ReLU(),\n",
    "            nn.Linear(84,10)\n",
    "        )\n",
    "\n",
    "    def forward(self,inputs):\n",
    "        x = self.conv_block1(inputs)\n",
    "        x = self.conv_block2(x)\n",
    "        x = self.flatten(x)\n",
    "        x = self.dense_layers(x)\n",
    "        return x"
   ]
  },
  {
   "cell_type": "code",
   "execution_count": 131,
   "id": "cf114f64",
   "metadata": {},
   "outputs": [],
   "source": [
    "if torch.cuda.is_available():\n",
    "    device = \"cuda\""
   ]
  },
  {
   "cell_type": "code",
   "execution_count": 132,
   "id": "844dab70",
   "metadata": {},
   "outputs": [
    {
     "data": {
      "text/plain": [
       "'cpu'"
      ]
     },
     "execution_count": 132,
     "metadata": {},
     "output_type": "execute_result"
    }
   ],
   "source": [
    "device"
   ]
  },
  {
   "cell_type": "code",
   "execution_count": 133,
   "id": "59d8eb6e",
   "metadata": {},
   "outputs": [],
   "source": [
    "model = ConvNet().to(device)"
   ]
  },
  {
   "cell_type": "markdown",
   "id": "1b8805b2",
   "metadata": {},
   "source": [
    "# Selecting the loss function and optimizer and also setting the hyperparameters "
   ]
  },
  {
   "cell_type": "code",
   "execution_count": 134,
   "id": "091d7f02",
   "metadata": {},
   "outputs": [],
   "source": [
    "LEARNING_RATE = 0.01\n",
    "BATCH_SIZE = 100\n",
    "EPOCHS = 20"
   ]
  },
  {
   "cell_type": "code",
   "execution_count": 135,
   "id": "05f8a219",
   "metadata": {},
   "outputs": [],
   "source": [
    "train_data_loader = DataLoader(train_data,batch_size=BATCH_SIZE)"
   ]
  },
  {
   "cell_type": "code",
   "execution_count": 136,
   "id": "1dd48e9f",
   "metadata": {},
   "outputs": [],
   "source": [
    "loss_fn = nn.CrossEntropyLoss()\n",
    "optimizer = torch.optim.SGD(model.parameters(),lr = LEARNING_RATE)"
   ]
  },
  {
   "cell_type": "markdown",
   "id": "522867f9",
   "metadata": {},
   "source": [
    "# Defining the Training Loop"
   ]
  },
  {
   "cell_type": "code",
   "execution_count": 137,
   "id": "ba9481a6",
   "metadata": {},
   "outputs": [],
   "source": [
    "def train_one_epoch(model,data_loader,loss_fn,optimizer,device):\n",
    "    for inputs,targets in data_loader:\n",
    "        inputs = inputs.to(device)\n",
    "        targets = targets.to(device)\n",
    "\n",
    "        predictions = model(inputs)\n",
    "        loss = loss_fn(predictions,targets)\n",
    "\n",
    "        optimizer.zero_grad()\n",
    "        loss.backward()\n",
    "        optimizer.step()\n",
    "    print(f\"Loss = { loss.item() }\")\n",
    "\n",
    "def train(model,data_loader,loss_fn,optimizer,device,epochs):\n",
    "    for i in range(epochs):\n",
    "        print(f\"Epochs = {i+1}\")\n",
    "        train_one_epoch(model,data_loader,loss_fn,optimizer,device)\n",
    "        print(\"------------------------------------------\")\n",
    "    print(\"Training completer\")"
   ]
  },
  {
   "cell_type": "markdown",
   "id": "939dba39",
   "metadata": {},
   "source": [
    "# Training the model"
   ]
  },
  {
   "cell_type": "code",
   "execution_count": 138,
   "id": "36ba4c56",
   "metadata": {},
   "outputs": [
    {
     "name": "stdout",
     "output_type": "stream",
     "text": [
      "Epochs = 1\n",
      "Loss = 2.2995669841766357\n",
      "------------------------------------------\n",
      "Epochs = 2\n",
      "Loss = 2.297807216644287\n",
      "------------------------------------------\n",
      "Epochs = 3\n",
      "Loss = 2.2894744873046875\n",
      "------------------------------------------\n",
      "Epochs = 4\n",
      "Loss = 2.2103214263916016\n",
      "------------------------------------------\n",
      "Epochs = 5\n",
      "Loss = 2.2518656253814697\n",
      "------------------------------------------\n",
      "Epochs = 6\n",
      "Loss = 2.1923062801361084\n",
      "------------------------------------------\n",
      "Epochs = 7\n",
      "Loss = 2.1372642517089844\n",
      "------------------------------------------\n",
      "Epochs = 8\n",
      "Loss = 2.0611069202423096\n",
      "------------------------------------------\n",
      "Epochs = 9\n",
      "Loss = 1.9651826620101929\n",
      "------------------------------------------\n",
      "Epochs = 10\n",
      "Loss = 1.8511765003204346\n",
      "------------------------------------------\n",
      "Epochs = 11\n",
      "Loss = 1.7979404926300049\n",
      "------------------------------------------\n",
      "Epochs = 12\n",
      "Loss = 1.7603617906570435\n",
      "------------------------------------------\n",
      "Epochs = 13\n",
      "Loss = 1.7145978212356567\n",
      "------------------------------------------\n",
      "Epochs = 14\n",
      "Loss = 1.664005994796753\n",
      "------------------------------------------\n",
      "Epochs = 15\n",
      "Loss = 1.619392991065979\n",
      "------------------------------------------\n",
      "Epochs = 16\n",
      "Loss = 1.5740532875061035\n",
      "------------------------------------------\n",
      "Epochs = 17\n",
      "Loss = 1.5460999011993408\n",
      "------------------------------------------\n",
      "Epochs = 18\n",
      "Loss = 1.5208858251571655\n",
      "------------------------------------------\n",
      "Epochs = 19\n",
      "Loss = 1.490228295326233\n",
      "------------------------------------------\n",
      "Epochs = 20\n",
      "Loss = 1.4672672748565674\n",
      "------------------------------------------\n",
      "Training completer\n"
     ]
    }
   ],
   "source": [
    "train(model,train_data_loader,loss_fn,optimizer,device,epochs=EPOCHS)"
   ]
  },
  {
   "cell_type": "markdown",
   "id": "23213cae",
   "metadata": {},
   "source": [
    "# Saving the trained Model"
   ]
  },
  {
   "cell_type": "code",
   "execution_count": 139,
   "id": "b9c29b73",
   "metadata": {},
   "outputs": [],
   "source": [
    "torch.save(model.state_dict(),\"CONV_NET.pth\")"
   ]
  },
  {
   "cell_type": "code",
   "execution_count": null,
   "id": "f633a881",
   "metadata": {},
   "outputs": [],
   "source": []
  }
 ],
 "metadata": {
  "kernelspec": {
   "display_name": ".venv",
   "language": "python",
   "name": "python3"
  },
  "language_info": {
   "codemirror_mode": {
    "name": "ipython",
    "version": 3
   },
   "file_extension": ".py",
   "mimetype": "text/x-python",
   "name": "python",
   "nbconvert_exporter": "python",
   "pygments_lexer": "ipython3",
   "version": "3.12.6"
  }
 },
 "nbformat": 4,
 "nbformat_minor": 5
}
=======
  "nbformat": 4,
  "nbformat_minor": 5
}
>>>>>>> 6de41fb5f0dfb243b485bf4facb07b022e44a2e4
